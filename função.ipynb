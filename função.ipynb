{
  "nbformat": 4,
  "nbformat_minor": 0,
  "metadata": {
    "colab": {
      "provenance": []
    },
    "kernelspec": {
      "name": "python3",
      "display_name": "Python 3"
    },
    "language_info": {
      "name": "python"
    }
  },
  "cells": [
    {
      "cell_type": "code",
      "execution_count": null,
      "metadata": {
        "colab": {
          "base_uri": "https://localhost:8080/"
        },
        "id": "MSeeFgm-5KPK",
        "outputId": "63c526e4-d91a-4288-99c2-49a4761e3c71"
      },
      "outputs": [
        {
          "output_type": "stream",
          "name": "stdout",
          "text": [
            "Digite seu nome: Marcos\n",
            "Olá Marcos\n"
          ]
        }
      ],
      "source": [
        "def saudacao(nome):\n",
        "  print(f\"Olá {nome}!\")\n",
        "\n",
        "nome = input(\"Digite seu nome: \")\n",
        "saudacao(nome)"
      ]
    },
    {
      "cell_type": "markdown",
      "source": [
        "1. Crie a função alterna(n) que imprime a sequência crescente de números naturais com mudança de sina; alternadamente até n"
      ],
      "metadata": {
        "id": "CCqxO1b39er5"
      }
    },
    {
      "cell_type": "code",
      "source": [
        "def alterna(n):\n",
        "  multiplicador = 1\n",
        "  resultado = 0\n",
        "  for contador in range(1,n+1):\n",
        "    resultado = contador * multiplicador\n",
        "    print(resultado, end=\" \")\n",
        "    multiplicador *= -1\n",
        "  print()\n",
        "alterna(5)\n",
        "alterna(9)\n",
        "alterna(12)"
      ],
      "metadata": {
        "colab": {
          "base_uri": "https://localhost:8080/"
        },
        "id": "x7k_CHj49qWX",
        "outputId": "a80ff683-c294-4ab5-afc7-c1832879b404"
      },
      "execution_count": null,
      "outputs": [
        {
          "output_type": "stream",
          "name": "stdout",
          "text": [
            "1 -2 3 -4 5 \n",
            "1 -2 3 -4 5 -6 7 -8 9 \n",
            "1 -2 3 -4 5 -6 7 -8 9 -10 11 -12 \n"
          ]
        }
      ]
    },
    {
      "cell_type": "markdown",
      "source": [
        "Função que calcula a área de um triângulo"
      ],
      "metadata": {
        "id": "THcGOhtvCw1Z"
      }
    },
    {
      "cell_type": "code",
      "source": [
        "def areaTriangulo(base, altura):\n",
        "  area = base * altura / 2\n",
        "  return area\n",
        "\n",
        "#Triângulo 1\n",
        "base1 = 2\n",
        "altura1 = 5\n",
        "\n",
        "#Triângulo 2\n",
        "base2 = 4\n",
        "altura2 = 5\n",
        "\n",
        "print(f\"Area triângulo 1 = {areaTriangulo(base1, altura1)}\")\n",
        "print(f\"Area triângulo 2 = {areaTriangulo(base2, altura2)}\")"
      ],
      "metadata": {
        "colab": {
          "base_uri": "https://localhost:8080/"
        },
        "id": "JEewscMOC1l-",
        "outputId": "a61264a9-eb19-4fcf-99d5-512ee9f92db0"
      },
      "execution_count": null,
      "outputs": [
        {
          "output_type": "stream",
          "name": "stdout",
          "text": [
            "Area triângulo 1 = 5.0\n",
            "Area triângulo 2 = 10.0\n"
          ]
        }
      ]
    },
    {
      "cell_type": "markdown",
      "source": [
        "2. Implemente uma função que calcula o perímetro de um retângulo de lados a e b."
      ],
      "metadata": {
        "id": "eSW8kLx0EDOS"
      }
    },
    {
      "cell_type": "code",
      "source": [
        "def perimetroRetangulo(a,b):\n",
        "  perimetro = (2*a) + (2*b)\n",
        "  return perimetro\n",
        "\n",
        "print(f\"O perimetro do retângulo é {perimetroRetangulo(2,3)}\")"
      ],
      "metadata": {
        "colab": {
          "base_uri": "https://localhost:8080/"
        },
        "id": "RRroAr7QEO3E",
        "outputId": "72dbf5c6-8f0b-4e6a-dd34-937412133bfd"
      },
      "execution_count": null,
      "outputs": [
        {
          "output_type": "stream",
          "name": "stdout",
          "text": [
            "O perimetro do retângulo é 10\n"
          ]
        }
      ]
    },
    {
      "cell_type": "markdown",
      "source": [
        "Parâmetros posicionais e nomeados"
      ],
      "metadata": {
        "id": "r5WkTkbsGvkO"
      }
    },
    {
      "cell_type": "code",
      "source": [
        "def saudacao(nome,mensagem):\n",
        "  print(\"Olá,\", nome, \"\\b!\", mensagem)\n",
        "\n",
        "#Chamada da função com parâmetros posicionais\n",
        "saudacao(\"Marcos\", \"Como você está?\")\n",
        "\n",
        "#Chamada da função com parâmetros nomeados\n",
        "saudacao(mensagem=\"Tudo bem com você?\", nome=\"Juan\")\n"
      ],
      "metadata": {
        "colab": {
          "base_uri": "https://localhost:8080/"
        },
        "id": "j9O7jhltGzyv",
        "outputId": "19acce8f-43ef-47d9-d327-b1793681c7ba"
      },
      "execution_count": null,
      "outputs": [
        {
          "output_type": "stream",
          "name": "stdout",
          "text": [
            "Olá, Marcos \b! Como você está?\n",
            "Olá, Juan \b! Tudo bem com você?\n"
          ]
        }
      ]
    },
    {
      "cell_type": "markdown",
      "source": [
        "Parâmetros Padrão"
      ],
      "metadata": {
        "id": "Z9Vd-ZXCIATi"
      }
    },
    {
      "cell_type": "code",
      "source": [
        "def saudacao(nome,mensagem=\"Bom dia!\"):\n",
        "  print(\"Olá,\", nome, \"\\b!\", mensagem)\n",
        "\n",
        "#Chamada da função sem especificar o parâmetro opcional\n",
        "saudacao(\"Marcos\")\n",
        "\n",
        "#Chamada da função sem especificando o parâmetro opcional\n",
        "saudacao(\"Juan\", \"Boa Tarde!\")\n"
      ],
      "metadata": {
        "colab": {
          "base_uri": "https://localhost:8080/"
        },
        "id": "dj6ISr4KICUd",
        "outputId": "bb8c2950-c104-4207-82f0-8d0021349872"
      },
      "execution_count": null,
      "outputs": [
        {
          "output_type": "stream",
          "name": "stdout",
          "text": [
            "Olá, Marcos \b! Bom dia!\n",
            "Olá, Juan \b! Boa Tarde!\n"
          ]
        }
      ]
    },
    {
      "cell_type": "markdown",
      "source": [
        "Retorno múltiplo de valores"
      ],
      "metadata": {
        "id": "l-mBDnJ-RRCG"
      }
    },
    {
      "cell_type": "code",
      "source": [
        "def calcularValores(numero):\n",
        "  triplo = numero * 3\n",
        "  quadruplo = numero * 4\n",
        "  quintaPotencia = numero ** 5\n",
        "  return triplo, quadruplo, quintaPotencia\n",
        "\n",
        "#Chamada da função\n",
        "resultado = calcularValores(2)\n",
        "print(resultado)\n",
        "\n",
        "#Desempacotamento dos valores retornados\n",
        "triplo, quadruplo, quintaPotencia = calcularValores(3)\n",
        "print(triplo)\n",
        "print(quadruplo)\n",
        "print(quintaPotencia)"
      ],
      "metadata": {
        "colab": {
          "base_uri": "https://localhost:8080/"
        },
        "id": "_bsaCY6sRWqc",
        "outputId": "555137ee-e93f-4feb-ab21-6695aa75f9b9"
      },
      "execution_count": null,
      "outputs": [
        {
          "output_type": "stream",
          "name": "stdout",
          "text": [
            "(6, 8, 32)\n",
            "9\n",
            "12\n",
            "243\n"
          ]
        }
      ]
    },
    {
      "cell_type": "markdown",
      "source": [
        "Implemente a função que recebe uma lista de números e retorna a soma dos números positivos e a soma dos números negativos"
      ],
      "metadata": {
        "id": "fbQUG9nnUQWk"
      }
    },
    {
      "cell_type": "code",
      "source": [
        "def somaPN(valores):\n",
        "  somaP = 0\n",
        "  somaN = 0\n",
        "  for valor in valores:\n",
        "    if valor > 0:\n",
        "      somaP += valor\n",
        "    else:\n",
        "      somaN += valor\n",
        "  return somaP, somaN\n",
        "\n",
        "valores = [2, -1, 3, -4]\n",
        "somaP, somaN = somaPN(valores)\n",
        "print(f\"soma dos positivos = {somaP}\\nsoma dos negativos = {somaN}\")"
      ],
      "metadata": {
        "colab": {
          "base_uri": "https://localhost:8080/"
        },
        "id": "QAf5Yx6MUFq7",
        "outputId": "42960299-347b-4157-d0ce-7ae515195fb8"
      },
      "execution_count": null,
      "outputs": [
        {
          "output_type": "stream",
          "name": "stdout",
          "text": [
            "soma dos positivos = 5\n",
            "soma dos negativos = -5\n"
          ]
        }
      ]
    },
    {
      "cell_type": "markdown",
      "source": [
        "3. Implemente a função somas(lista) que recebe uma lista de números e retorna a soma dos números e a soma dos numeros ao quadrado"
      ],
      "metadata": {
        "id": "lxJSyx32b2_o"
      }
    },
    {
      "cell_type": "code",
      "source": [
        "def somas(valores):\n",
        "  soma, quadrados = sum(valores), sum([valor ** 2 for valor in valores])\n",
        "  return soma, quadrados\n",
        "\n",
        "valores = [2, -1, 3, -4]\n",
        "soma, quadrados = somas(valores)\n",
        "print(f\"Valores da lista{valores}\\nSoma dos números = {soma}\\nSoma números ao quadrado = {quadrados}\")\n",
        "\n"
      ],
      "metadata": {
        "colab": {
          "base_uri": "https://localhost:8080/"
        },
        "id": "wNw8gT-5cD6E",
        "outputId": "0ea33db9-da79-4530-eb32-09c81f76cd8e"
      },
      "execution_count": null,
      "outputs": [
        {
          "output_type": "stream",
          "name": "stdout",
          "text": [
            "[2, -1, 3, -4]\n",
            "Soma dos números = 0\n",
            "Soma números ao quadrado = 30\n"
          ]
        }
      ]
    },
    {
      "cell_type": "code",
      "source": [
        "def comparaTamanhos(txt1, txt2):\n",
        "  if len(txt1) == len(txt2):\n",
        "    print(f\"A palavra {txt1} tem o mesmo tanto de letra que {txt2}!\")\n",
        "  else:\n",
        "    print(f\"A palavra {txt1} não tem o mesmo tanto de letra que {txt2}!\")\n",
        "\n",
        "txt1 = input(\"Digite a primeira palavra: \")\n",
        "txt2 = input(\"Digite a segunda palavra: \")\n",
        "comparaTamanhos(txt1, txt2)"
      ],
      "metadata": {
        "colab": {
          "base_uri": "https://localhost:8080/"
        },
        "id": "WJj4KQHXFfXv",
        "outputId": "6e709d9e-2420-4ec9-c298-42300f920a3b"
      },
      "execution_count": null,
      "outputs": [
        {
          "output_type": "stream",
          "name": "stdout",
          "text": [
            "Digite a primeira palavra: perimetro\n",
            "Digite a segunda palavra: retangulo\n",
            "A palavra perimetro tem o mesmo tanto de letra que retangulo!\n"
          ]
        }
      ]
    },
    {
      "cell_type": "code",
      "source": [
        "import random\n",
        "def jogoNum():\n",
        "  numCerto = random.randrange(0,101)\n",
        "  acertou = False\n",
        "  while acertou == False:\n",
        "    num = int(input(\"Digite um número: \"))\n",
        "    if num > numCerto:\n",
        "      print(f\"É menor que {num}!\")\n",
        "    elif num < numCerto:\n",
        "      print(f\"É maior que {num}!\")\n",
        "    else:\n",
        "      print(f\"O numero certo é {numCerto}!\")\n",
        "      acertou = True\n",
        "\n",
        "jogoNum()"
      ],
      "metadata": {
        "colab": {
          "base_uri": "https://localhost:8080/"
        },
        "id": "ZqQFTcHRJU28",
        "outputId": "7f207478-3f88-4095-b098-72bae9f7a01d"
      },
      "execution_count": null,
      "outputs": [
        {
          "output_type": "stream",
          "name": "stdout",
          "text": [
            "Digite um número: 3\n",
            "É maior que 3!\n",
            "Digite um número: 25\n",
            "É maior que 25!\n",
            "Digite um número: 53\n",
            "É maior que 53!\n",
            "Digite um número: 74\n",
            "É menor que 74!\n",
            "Digite um número: 69\n",
            "É menor que 69!\n",
            "Digite um número: 62\n",
            "É menor que 62!\n",
            "Digite um número: 60\n",
            "É menor que 60!\n",
            "Digite um número: 57\n",
            "É menor que 57!\n",
            "Digite um número: 54\n",
            "É maior que 54!\n",
            "Digite um número: 55\n",
            "É maior que 55!\n",
            "Digite um número: 56\n",
            "O numero certo é 56!\n"
          ]
        }
      ]
    },
    {
      "cell_type": "code",
      "source": [
        "import random\n",
        "'''\n",
        "palavras = ['manga', 'banana', 'morango', 'melao', 'abacaxi', 'abacate', 'caqui', 'amora', 'ameixa'\n",
        ", acerola\n",
        ", açai\n",
        ", carambola\n",
        ", caju\n",
        ", cereja\n",
        ", cacau\n",
        ", cupuaçu\n",
        ", damasco\n",
        ", figo\n",
        ", framboesa\n",
        ", graviola\n",
        ", goiaba\n",
        ", groselia\n",
        ", guarana\n",
        ", jaca\n",
        ", kiwi\n",
        ", laranja\n",
        ", limao\n",
        ", lima\n",
        ", lixia\n",
        ", melancia\n",
        ", mamao\n",
        ", maracuja\n",
        ", maça\n",
        ", mexerica\n",
        ", nectarina\n",
        ", pera\n",
        ", pessego\n",
        ", pitanga\n",
        ", pinha\n",
        ", quina\n",
        ", roma\n",
        ", tangerina\n",
        ", uva]\n",
        "'''\n",
        "palavraForca = palavras[random.randrange(-1, 7)]\n",
        "tamanhoPalavra = len(palavras)\n",
        "acertou = False\n",
        "forca = ''\n",
        "print(f\"----------FORCA------------\\nA palavra tem {tamanhoPalavra} letras\")\n",
        "for i in palavraForca:\n",
        "  forca = forca + '-'\n",
        "while acertou == False:\n",
        "  chute = input(\"Digite uma letra: \")\n",
        "  cont = 0\n",
        "  for i in palavraForca:\n",
        "    if i == chute:\n",
        "      listaForca = list(forca)\n",
        "      listaForca[cont] = i\n",
        "      forca = ''.join(listaForca)\n",
        "    cont+=1\n",
        "  print(forca)\n",
        "  if forca == palavraForca:\n",
        "    acertou = True\n",
        "    print(f\"Você acertou parabéns a palavra é {forca}!!!\")"
      ],
      "metadata": {
        "colab": {
          "base_uri": "https://localhost:8080/"
        },
        "id": "Yd7YcN8ZLioj",
        "outputId": "fa6ce761-c443-4e75-bffc-f996e4025e55"
      },
      "execution_count": null,
      "outputs": [
        {
          "output_type": "stream",
          "name": "stdout",
          "text": [
            "----------FORCA------------\n",
            "A palavra tem 7 letras\n",
            "Digite uma letra: m\n",
            "-------\n",
            "Digite uma letra: a\n",
            "a-a-a--\n",
            "Digite uma letra: b\n",
            "aba-a--\n",
            "Digite uma letra: c\n",
            "abaca--\n",
            "Digite uma letra: x\n",
            "abaca--\n",
            "Digite uma letra: i\n",
            "abaca--\n",
            "Digite uma letra: t\n",
            "abacat-\n",
            "Digite uma letra: e\n",
            "abacate\n",
            "Você acertou parabéns a palavra é abacate!!!\n"
          ]
        }
      ]
    },
    {
      "cell_type": "markdown",
      "source": [
        "Calculadora"
      ],
      "metadata": {
        "id": "oM_UKvSYQaJt"
      }
    },
    {
      "cell_type": "code",
      "source": [
        "import math\n",
        "\n",
        "def soma(a, b):\n",
        "  return a + b\n",
        "def subtracao(a, b):\n",
        "  return a - b\n",
        "def multiplicacao(a, b):\n",
        "  return a * b\n",
        "def divisao(a, b):\n",
        "  return a / b if b !=0 else None\n",
        "def potencia(a, b):\n",
        "  return a ** b\n",
        "def raiz(a, b):\n",
        "  return math.sqrt(a), math.sqrt(b)\n",
        "def menu():\n",
        "  print(f\"1. Soma\\n2. Subtração\\n3. Multiplicação\\n4. Divisão\\n5. Potênciação\\n6. Raiz Quadrada\\nOutro para sair\\n\")\n",
        "\n",
        "def calculadora():\n",
        "  fim = False\n",
        "  while fim ==  False:\n",
        "    menu()\n",
        "    opcao = int(input(\"Digite o número da opção deseja: \"))\n",
        "    if opcao in (1, 2, 3, 4, 5, 6):\n",
        "      num1 = float(input(\"Digite o primeiro número: \"))\n",
        "      num2 = float(input(\"Digite o segundo número: \"))\n",
        "      res = 0\n",
        "      if opcao == 1:\n",
        "        res = soma(num1,num2)\n",
        "      elif opcao == 2:\n",
        "        res = subtracao(num1,num2)\n",
        "      elif opcao == 3:\n",
        "        res = multiplicacao(num1,num2)\n",
        "      elif opcao == 4:\n",
        "        res = divisao(num1,num2)\n",
        "      elif opcao == 5:\n",
        "        res = potencia(num1,num2)\n",
        "      elif opcao == 6:\n",
        "        valor1, valor2 = raiz(num1,num2)\n",
        "        print(f\"O resultado da Raiz de {num1} é {valor1}!\\ne o resultado da raiz de {num2} é {valor2}!\\n\")\n",
        "      print(f\"O resultado  é {res}!\\n\")\n",
        "    else:\n",
        "      print('\\nFim!')\n",
        "      fim = True\n",
        "calculadora()"
      ],
      "metadata": {
        "colab": {
          "base_uri": "https://localhost:8080/"
        },
        "id": "Rl2hwBHkQb_w",
        "outputId": "36f45185-a0a9-411c-d1e6-ca7ac028d808"
      },
      "execution_count": null,
      "outputs": [
        {
          "output_type": "stream",
          "name": "stdout",
          "text": [
            "1. Soma\n",
            "2. Subtração\n",
            "3. Multiplicação\n",
            "4. Divisão\n",
            "5. Potênciação\n",
            "6. Raiz Quadrada\n",
            "Outro para sair\n",
            "\n",
            "Digite o número da opção deseja: 7\n",
            "\n",
            "Fim!\n"
          ]
        }
      ]
    },
    {
      "cell_type": "markdown",
      "source": [
        "Verificador de cpf"
      ],
      "metadata": {
        "id": "T8vjqd_6t1X2"
      }
    },
    {
      "cell_type": "code",
      "source": [
        "def validarDigitoVerificador1(cpf):\n",
        "  #resultados = []\n",
        "  somaDigitos = 0\n",
        "  for digito in range(9):\n",
        "    #resultados.append(multiplicador * digito)\n",
        "    #print(f\"{digito} * {multiplicador}\")\n",
        "    somaDigitos += (10-digito) * cpf[digito]\n",
        "  #sum(resultados)\n",
        "  digito1 = ((somaDigitos * 10)%11)%10\n",
        "  return digito1 == cpf[-2]\n",
        "\n",
        "def validarDigitoVerificador2(cpf):\n",
        "  somaDigitos = 0\n",
        "  for digito in range(10):\n",
        "    somaDigitos += (11-digito) * cpf[digito]\n",
        "  digito2 = ((somaDigitos * 10)%11)%10\n",
        "  return digito2 == cpf[-1]\n",
        "\n",
        "def validarCPF(cpf):\n",
        "  cpf = [int(digito) for digito in cpf if digito.isdigit()]\n",
        "  if len(cpf) != 11 or len(set(cpf)) == 1:\n",
        "    print(\"CPF inválido\")\n",
        "  else:\n",
        "    if validarDigitoVerificador1(cpf) == True:\n",
        "      if validarDigitoVerificador2(cpf) == True:\n",
        "        print(\"CPF válido\")\n",
        "      else:\n",
        "        print(\"CPF inválido\")\n",
        "    else:\n",
        "      print(\"CPF inválido\")\n",
        "\n",
        "def main():\n",
        "  cpf = input(\"Digite o seu CPF: \")\n",
        "  validarCPF(cpf)\n",
        "\n",
        "main()"
      ],
      "metadata": {
        "id": "6o-1kGl7t30S",
        "colab": {
          "base_uri": "https://localhost:8080/"
        },
        "outputId": "6a84a670-1d29-4fcb-e24d-a8c88317f9ee"
      },
      "execution_count": null,
      "outputs": [
        {
          "output_type": "stream",
          "name": "stdout",
          "text": [
            "Digite o seu CPF: 485.447.638-90\n",
            "CPF inválido\n"
          ]
        }
      ]
    },
    {
      "cell_type": "code",
      "source": [
        "def geradorCodigoVerificador1(digitos):\n",
        "  somaDigitos = 0\n",
        "  for digito in range(9):\n",
        "    somaDigitos += (10-digito) * digitos[digito]\n",
        "  digitos.append(((somaDigitos * 10)%11)%10)\n",
        "  return digitos\n",
        "\n",
        "def geradorCodigoVerificador2(digitos):\n",
        "  somaDigitos = 0\n",
        "  for digito in range(10):\n",
        "    somaDigitos += (11-digito) * digitos[digito]\n",
        "  digitos.append(((somaDigitos * 10)%11)%10)\n",
        "  return digitos\n",
        "\n",
        "def gerarCPF(cpf):\n",
        "  cpf = [int(digito) for digito in cpf if digito.isdigit()]\n",
        "  if len(cpf) != 9:\n",
        "    print(\"Digite 9 dígitos!\")\n",
        "  else:\n",
        "    cpf = geradorCodigoVerificador1(cpf)\n",
        "    cpf = geradorCodigoVerificador2(cpf)\n",
        "    cpf = ''.join(str(numero) for numero in cpf)\n",
        "    cpf = '{}.{}.{}-{}'.format(cpf[:3], cpf[3:6], cpf[6:9], cpf[9:])\n",
        "    return cpf\n",
        "\n",
        "def principal():\n",
        "  cpf = input(\"Digite os primeiros 9 dígitos do CPF a ser gerado: \")\n",
        "  cpf = gerarCPF(cpf)\n",
        "  print(f\"CPF = {cpf}\")\n",
        "\n",
        "principal()"
      ],
      "metadata": {
        "colab": {
          "base_uri": "https://localhost:8080/"
        },
        "id": "bFieILlW_sOz",
        "outputId": "3fa26590-dde9-4500-c412-d87460ae07bd"
      },
      "execution_count": null,
      "outputs": [
        {
          "output_type": "stream",
          "name": "stdout",
          "text": [
            "Digite os primeiros 9 dígitos do CPF a ser gerado: 123456789\n",
            "CPF = 123.456.789-09\n"
          ]
        }
      ]
    },
    {
      "cell_type": "code",
      "source": [
        "def calculadora(operador):\n",
        "  def operacao(a, b):\n",
        "    return eval(f\"{a} {operador} {b}\")\n",
        "  return operacao\n",
        "\n",
        "soma = calculadora(\"+\")\n",
        "subtracao = calculadora(\"-\")\n",
        "multiplicacao = calculadora(\"*\")\n",
        "divisao = calculadora(\"/\")\n",
        "\n",
        "print(soma(1, 5))\n",
        "print(subtracao(10, 3))\n",
        "print(multiplicacao(3, 5))\n",
        "print(divisao(15, 5))"
      ],
      "metadata": {
        "colab": {
          "base_uri": "https://localhost:8080/"
        },
        "id": "8YK8KXuAxX3Y",
        "outputId": "324c6f25-fc5c-4c54-d2ff-3d6560fb0008"
      },
      "execution_count": null,
      "outputs": [
        {
          "output_type": "stream",
          "name": "stdout",
          "text": [
            "6\n",
            "7\n",
            "15\n",
            "3.0\n"
          ]
        }
      ]
    },
    {
      "cell_type": "code",
      "source": [
        "def fatorial(n):\n",
        "  if n == 1:\n",
        "    return 1\n",
        "  return n * fatorial(n-1)\n",
        "\n",
        "print(fatorial(3))"
      ],
      "metadata": {
        "colab": {
          "base_uri": "https://localhost:8080/"
        },
        "id": "fw7kDOMD4ONz",
        "outputId": "ab4e8f56-4f34-43aa-80ce-fa588f8a4d4f"
      },
      "execution_count": null,
      "outputs": [
        {
          "output_type": "stream",
          "name": "stdout",
          "text": [
            "6\n"
          ]
        }
      ]
    },
    {
      "cell_type": "markdown",
      "source": [
        "Crie uma função recursiva, potencia(base,expoente), que calcula uma potêncua da forma base^expoente"
      ],
      "metadata": {
        "id": "vz-vvNoZ7ZNm"
      }
    },
    {
      "cell_type": "code",
      "source": [
        "def potencia(base, expoente):\n",
        "  if expoente == 0:\n",
        "    return 1\n",
        "  return base * potencia(base,expoente-1)\n",
        "\n",
        "print(potencia(2,6))"
      ],
      "metadata": {
        "colab": {
          "base_uri": "https://localhost:8080/"
        },
        "id": "RmdsBJEn7nv6",
        "outputId": "a0a19d70-d66a-40c8-ecde-cd3d84287783"
      },
      "execution_count": null,
      "outputs": [
        {
          "output_type": "stream",
          "name": "stdout",
          "text": [
            "64\n"
          ]
        }
      ]
    },
    {
      "cell_type": "markdown",
      "source": [
        "calcular celsius para farenheit"
      ],
      "metadata": {
        "id": "K04S60V_L51j"
      }
    },
    {
      "cell_type": "code",
      "source": [
        "c2f = lambda c: c*9/5+32"
      ],
      "metadata": {
        "id": "YVSNNlNZL8Zj"
      },
      "execution_count": null,
      "outputs": []
    },
    {
      "cell_type": "code",
      "source": [
        "n = [3, 5, 7, 1, 9]\n",
        "sorted(n, key=lambda x:-x)"
      ],
      "metadata": {
        "colab": {
          "base_uri": "https://localhost:8080/"
        },
        "id": "Up7k9kimMV-X",
        "outputId": "fc07cbc5-adf8-49ac-e6a4-063da320d40e"
      },
      "execution_count": null,
      "outputs": [
        {
          "output_type": "execute_result",
          "data": {
            "text/plain": [
              "[9, 7, 5, 3, 1]"
            ]
          },
          "metadata": {},
          "execution_count": 26
        }
      ]
    },
    {
      "cell_type": "code",
      "source": [
        "max = lambda a, b: a if a>b else b"
      ],
      "metadata": {
        "id": "1xXr66dQMsG6"
      },
      "execution_count": null,
      "outputs": []
    },
    {
      "cell_type": "code",
      "source": [
        "def decorador(funcao):\n",
        "  def wrapper():\n",
        "    print(\"Antes da chamada da função\")\n",
        "    funcao()\n",
        "    print(\"Depois da chamada da função\")\n",
        "  return wrapper\n",
        "\n",
        "@decorador\n",
        "def minhaFuncao():\n",
        "    print(\"Função decorada\")\n",
        "\n",
        "minhaFuncao()"
      ],
      "metadata": {
        "colab": {
          "base_uri": "https://localhost:8080/"
        },
        "id": "7aS9lMz7OoWF",
        "outputId": "f3bcdf39-a251-4667-f25e-e7025a62aa10"
      },
      "execution_count": null,
      "outputs": [
        {
          "output_type": "stream",
          "name": "stdout",
          "text": [
            "Antes da chamada da função\n",
            "Função decorada\n",
            "Depois da chamada da função\n"
          ]
        }
      ]
    },
    {
      "cell_type": "markdown",
      "source": [
        "Calculo de PI"
      ],
      "metadata": {
        "id": "0gHqlt-5QIKE"
      }
    },
    {
      "cell_type": "code",
      "source": [
        "def estimaPI(n):\n",
        "  pass"
      ],
      "metadata": {
        "id": "2nt5hwpzQHna"
      },
      "execution_count": null,
      "outputs": []
    },
    {
      "cell_type": "markdown",
      "source": [
        "Calcular raiz"
      ],
      "metadata": {
        "id": "phsVW7bYTGCN"
      }
    },
    {
      "cell_type": "code",
      "source": [
        "def raiz(N):\n",
        "  \"\"\"\n",
        "  Calcula a raiz quadrada de N\n",
        "  Usando o algoritmo\n",
        "  x_(n+1) = 1/2 * (x_n + N/x_n)\n",
        "  \"\"\"\n",
        "  x = 1\n",
        "  while abs(x*x - N)> 1e-9:\n",
        "    x = 1/2 * (x + N/x)\n",
        "  return x\n",
        "\n",
        "raiz(3)**2"
      ],
      "metadata": {
        "colab": {
          "base_uri": "https://localhost:8080/"
        },
        "id": "6D9UUBF2TI74",
        "outputId": "549f2bae-fc29-4990-b24c-c0409b6a88b2"
      },
      "execution_count": null,
      "outputs": [
        {
          "output_type": "execute_result",
          "data": {
            "text/plain": [
              "2.9999999999999996"
            ]
          },
          "metadata": {},
          "execution_count": 1
        }
      ]
    },
    {
      "cell_type": "code",
      "source": [
        "def pitagoras(a, b):\n",
        "\n",
        "  \"\"\"\n",
        "  Calcula a hipotenusa\n",
        "  de triangulo retangulo\n",
        "  de catetos a e b\n",
        "  \"\"\"\n",
        "\n",
        "  return raiz(a*a + b*b)"
      ],
      "metadata": {
        "id": "7xMmEH1A3BhD"
      },
      "execution_count": null,
      "outputs": []
    },
    {
      "cell_type": "code",
      "source": [
        "def eqgrau2(a, b, c):\n",
        "  \"\"\"\n",
        "  Resolve:\n",
        "  a * x**2 + b * x + c = 0\n",
        "  \"\"\"\n",
        "  delta = b**2 - 4 * a * c\n",
        "  if delta < 0:\n",
        "    print(f'Delta ({delta}) e menor do que zero!')\n",
        "    return None\n",
        "  rdelta = raiz(delta)\n",
        "  x1 = (-b - rdelta) / (2 * a)\n",
        "  x2 = (-b + rdelta) / (2 * a)\n",
        "  return x1, x2"
      ],
      "metadata": {
        "id": "x20aWfdZ8AUn"
      },
      "execution_count": null,
      "outputs": []
    },
    {
      "cell_type": "code",
      "source": [
        "a,b,c = 1, -5, 6\n",
        "eqgrau2(a, b, c)"
      ],
      "metadata": {
        "colab": {
          "base_uri": "https://localhost:8080/"
        },
        "id": "-EUTptfO9VP2",
        "outputId": "78b20b12-86bc-4a31-b4e5-398d9a0bef46"
      },
      "execution_count": null,
      "outputs": [
        {
          "output_type": "execute_result",
          "data": {
            "text/plain": [
              "(2.0, 3.0)"
            ]
          },
          "metadata": {},
          "execution_count": 4
        }
      ]
    },
    {
      "cell_type": "code",
      "source": [
        "def somaRecursiva(numero):\n",
        "  if numero == 1:\n",
        "    return 1\n",
        "\n",
        "  return numero + somaRecursiva(numero-1)\n",
        "\n",
        "def somaIterativa(n):\n",
        "  soma = 0\n",
        "  for i in range(1, n+1):\n",
        "    soma +=i\n",
        "  return soma"
      ],
      "metadata": {
        "id": "YwuGVLCG_7p-"
      },
      "execution_count": null,
      "outputs": []
    },
    {
      "cell_type": "code",
      "source": [
        "print(somaRecursiva(100))\n",
        "print(somaIterativa(100))"
      ],
      "metadata": {
        "colab": {
          "base_uri": "https://localhost:8080/"
        },
        "id": "e4_Mb7dbAPIU",
        "outputId": "66c40e44-ff6a-4797-e351-d1f63e5e5ad1"
      },
      "execution_count": null,
      "outputs": [
        {
          "output_type": "stream",
          "name": "stdout",
          "text": [
            "5050\n",
            "5050\n"
          ]
        }
      ]
    },
    {
      "cell_type": "code",
      "source": [
        "def f(n):\n",
        "  if n == 0 or n == 1:\n",
        "    return n\n",
        "\n",
        "  return f(n-1) + f(n-2)"
      ],
      "metadata": {
        "id": "i9k-z7vPCUjH"
      },
      "execution_count": null,
      "outputs": []
    },
    {
      "cell_type": "code",
      "source": [
        "[f(n) for n in range(1,10)]"
      ],
      "metadata": {
        "colab": {
          "base_uri": "https://localhost:8080/"
        },
        "id": "paE2QebxD8sB",
        "outputId": "e817fe66-573c-48fd-8865-179e8039277d"
      },
      "execution_count": null,
      "outputs": [
        {
          "output_type": "execute_result",
          "data": {
            "text/plain": [
              "[1, 1, 2, 3, 5, 8, 13, 21, 34]"
            ]
          },
          "metadata": {},
          "execution_count": 27
        }
      ]
    },
    {
      "cell_type": "code",
      "source": [
        "def estimaPI(n):\n",
        "  return 4*sum([1/((2*x+1)*(-1)**x) for x in range(n)])"
      ],
      "metadata": {
        "id": "uuVFTuDIGnrT"
      },
      "execution_count": null,
      "outputs": []
    }
  ]
}